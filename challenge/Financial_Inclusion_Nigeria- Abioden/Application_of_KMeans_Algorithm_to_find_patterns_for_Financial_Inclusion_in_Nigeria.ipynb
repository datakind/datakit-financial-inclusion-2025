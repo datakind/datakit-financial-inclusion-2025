{
  "cells": [
    {
      "cell_type": "markdown",
      "source": [
        "#THE CLEANED DATASET WILL BE USED\n",
        "Checking Demographics based on Age and gender, Split Column into age group,gender  among others, and Find unique values of the demographics column.\n"
      ],
      "metadata": {
        "id": "W8PizeIWFdfO"
      }
    },
    {
      "cell_type": "markdown",
      "source": [],
      "metadata": {
        "id": "EPwFv-4FFbgn"
      }
    },
    {
      "cell_type": "code",
      "execution_count": null,
      "metadata": {
        "id": "6dxH_m9TTDWX"
      },
      "outputs": [],
      "source": [
        " #Financial Inclusion in Nigeria\n",
        "#import Libraries\n",
        "import pandas as pd\n",
        "import numpy as np\n",
        "import matplotlib.pyplot as plt\n",
        "import seaborn as sns"
      ]
    },
    {
      "cell_type": "code",
      "execution_count": 2,
      "metadata": {
        "colab": {
          "base_uri": "https://localhost:8080/",
          "height": 73
        },
        "id": "m_pQ1u37THr0",
        "outputId": "aba56847-8b6a-4ba7-aab5-30fdbac5e2b0"
      },
      "outputs": [
        {
          "output_type": "display_data",
          "data": {
            "text/plain": [
              "<IPython.core.display.HTML object>"
            ],
            "text/html": [
              "\n",
              "     <input type=\"file\" id=\"files-8b02c956-407f-42b3-881f-f7bb63a747ec\" name=\"files[]\" multiple disabled\n",
              "        style=\"border:none\" />\n",
              "     <output id=\"result-8b02c956-407f-42b3-881f-f7bb63a747ec\">\n",
              "      Upload widget is only available when the cell has been executed in the\n",
              "      current browser session. Please rerun this cell to enable.\n",
              "      </output>\n",
              "      <script>// Copyright 2017 Google LLC\n",
              "//\n",
              "// Licensed under the Apache License, Version 2.0 (the \"License\");\n",
              "// you may not use this file except in compliance with the License.\n",
              "// You may obtain a copy of the License at\n",
              "//\n",
              "//      http://www.apache.org/licenses/LICENSE-2.0\n",
              "//\n",
              "// Unless required by applicable law or agreed to in writing, software\n",
              "// distributed under the License is distributed on an \"AS IS\" BASIS,\n",
              "// WITHOUT WARRANTIES OR CONDITIONS OF ANY KIND, either express or implied.\n",
              "// See the License for the specific language governing permissions and\n",
              "// limitations under the License.\n",
              "\n",
              "/**\n",
              " * @fileoverview Helpers for google.colab Python module.\n",
              " */\n",
              "(function(scope) {\n",
              "function span(text, styleAttributes = {}) {\n",
              "  const element = document.createElement('span');\n",
              "  element.textContent = text;\n",
              "  for (const key of Object.keys(styleAttributes)) {\n",
              "    element.style[key] = styleAttributes[key];\n",
              "  }\n",
              "  return element;\n",
              "}\n",
              "\n",
              "// Max number of bytes which will be uploaded at a time.\n",
              "const MAX_PAYLOAD_SIZE = 100 * 1024;\n",
              "\n",
              "function _uploadFiles(inputId, outputId) {\n",
              "  const steps = uploadFilesStep(inputId, outputId);\n",
              "  const outputElement = document.getElementById(outputId);\n",
              "  // Cache steps on the outputElement to make it available for the next call\n",
              "  // to uploadFilesContinue from Python.\n",
              "  outputElement.steps = steps;\n",
              "\n",
              "  return _uploadFilesContinue(outputId);\n",
              "}\n",
              "\n",
              "// This is roughly an async generator (not supported in the browser yet),\n",
              "// where there are multiple asynchronous steps and the Python side is going\n",
              "// to poll for completion of each step.\n",
              "// This uses a Promise to block the python side on completion of each step,\n",
              "// then passes the result of the previous step as the input to the next step.\n",
              "function _uploadFilesContinue(outputId) {\n",
              "  const outputElement = document.getElementById(outputId);\n",
              "  const steps = outputElement.steps;\n",
              "\n",
              "  const next = steps.next(outputElement.lastPromiseValue);\n",
              "  return Promise.resolve(next.value.promise).then((value) => {\n",
              "    // Cache the last promise value to make it available to the next\n",
              "    // step of the generator.\n",
              "    outputElement.lastPromiseValue = value;\n",
              "    return next.value.response;\n",
              "  });\n",
              "}\n",
              "\n",
              "/**\n",
              " * Generator function which is called between each async step of the upload\n",
              " * process.\n",
              " * @param {string} inputId Element ID of the input file picker element.\n",
              " * @param {string} outputId Element ID of the output display.\n",
              " * @return {!Iterable<!Object>} Iterable of next steps.\n",
              " */\n",
              "function* uploadFilesStep(inputId, outputId) {\n",
              "  const inputElement = document.getElementById(inputId);\n",
              "  inputElement.disabled = false;\n",
              "\n",
              "  const outputElement = document.getElementById(outputId);\n",
              "  outputElement.innerHTML = '';\n",
              "\n",
              "  const pickedPromise = new Promise((resolve) => {\n",
              "    inputElement.addEventListener('change', (e) => {\n",
              "      resolve(e.target.files);\n",
              "    });\n",
              "  });\n",
              "\n",
              "  const cancel = document.createElement('button');\n",
              "  inputElement.parentElement.appendChild(cancel);\n",
              "  cancel.textContent = 'Cancel upload';\n",
              "  const cancelPromise = new Promise((resolve) => {\n",
              "    cancel.onclick = () => {\n",
              "      resolve(null);\n",
              "    };\n",
              "  });\n",
              "\n",
              "  // Wait for the user to pick the files.\n",
              "  const files = yield {\n",
              "    promise: Promise.race([pickedPromise, cancelPromise]),\n",
              "    response: {\n",
              "      action: 'starting',\n",
              "    }\n",
              "  };\n",
              "\n",
              "  cancel.remove();\n",
              "\n",
              "  // Disable the input element since further picks are not allowed.\n",
              "  inputElement.disabled = true;\n",
              "\n",
              "  if (!files) {\n",
              "    return {\n",
              "      response: {\n",
              "        action: 'complete',\n",
              "      }\n",
              "    };\n",
              "  }\n",
              "\n",
              "  for (const file of files) {\n",
              "    const li = document.createElement('li');\n",
              "    li.append(span(file.name, {fontWeight: 'bold'}));\n",
              "    li.append(span(\n",
              "        `(${file.type || 'n/a'}) - ${file.size} bytes, ` +\n",
              "        `last modified: ${\n",
              "            file.lastModifiedDate ? file.lastModifiedDate.toLocaleDateString() :\n",
              "                                    'n/a'} - `));\n",
              "    const percent = span('0% done');\n",
              "    li.appendChild(percent);\n",
              "\n",
              "    outputElement.appendChild(li);\n",
              "\n",
              "    const fileDataPromise = new Promise((resolve) => {\n",
              "      const reader = new FileReader();\n",
              "      reader.onload = (e) => {\n",
              "        resolve(e.target.result);\n",
              "      };\n",
              "      reader.readAsArrayBuffer(file);\n",
              "    });\n",
              "    // Wait for the data to be ready.\n",
              "    let fileData = yield {\n",
              "      promise: fileDataPromise,\n",
              "      response: {\n",
              "        action: 'continue',\n",
              "      }\n",
              "    };\n",
              "\n",
              "    // Use a chunked sending to avoid message size limits. See b/62115660.\n",
              "    let position = 0;\n",
              "    do {\n",
              "      const length = Math.min(fileData.byteLength - position, MAX_PAYLOAD_SIZE);\n",
              "      const chunk = new Uint8Array(fileData, position, length);\n",
              "      position += length;\n",
              "\n",
              "      const base64 = btoa(String.fromCharCode.apply(null, chunk));\n",
              "      yield {\n",
              "        response: {\n",
              "          action: 'append',\n",
              "          file: file.name,\n",
              "          data: base64,\n",
              "        },\n",
              "      };\n",
              "\n",
              "      let percentDone = fileData.byteLength === 0 ?\n",
              "          100 :\n",
              "          Math.round((position / fileData.byteLength) * 100);\n",
              "      percent.textContent = `${percentDone}% done`;\n",
              "\n",
              "    } while (position < fileData.byteLength);\n",
              "  }\n",
              "\n",
              "  // All done.\n",
              "  yield {\n",
              "    response: {\n",
              "      action: 'complete',\n",
              "    }\n",
              "  };\n",
              "}\n",
              "\n",
              "scope.google = scope.google || {};\n",
              "scope.google.colab = scope.google.colab || {};\n",
              "scope.google.colab._files = {\n",
              "  _uploadFiles,\n",
              "  _uploadFilesContinue,\n",
              "};\n",
              "})(self);\n",
              "</script> "
            ]
          },
          "metadata": {}
        },
        {
          "output_type": "stream",
          "name": "stdout",
          "text": [
            "Saving data2.csv to data2.csv\n"
          ]
        }
      ],
      "source": [
        "#import file from laptop\n",
        "from google.colab import files\n",
        "uploaded = files.upload()"
      ]
    },
    {
      "cell_type": "markdown",
      "metadata": {
        "id": "5TsFJkIXVlL8"
      },
      "source": [
        "columns_to_keep = [\n",
        "    'state',\n",
        "    'bank_account_ownership',\n",
        "    'financial_inclusion_metrics',\n",
        "    'demographic_factors',\n",
        "    'savings_behavior',\n",
        "    'borrowing_behavior',\n",
        "    'digital_payment_adoption',\n",
        "    'access_to_electricity',\n",
        "    'internet_access',\n",
        "    'mobile_phone_usage',\n",
        "    'credit_access',\n",
        "    'small_business_ownership',\n",
        "    'entrepreneurship'\n",
        "]\n",
        "\n",
        "\n"
      ]
    },
    {
      "cell_type": "code",
      "execution_count": 3,
      "metadata": {
        "id": "r16lMWiyVh05"
      },
      "outputs": [],
      "source": [
        "#read csv file into dataframe\n",
        "df = pd.read_csv('data2.csv')"
      ]
    },
    {
      "cell_type": "code",
      "execution_count": 4,
      "metadata": {
        "colab": {
          "base_uri": "https://localhost:8080/"
        },
        "id": "YLX9bx9_TC4v",
        "outputId": "c2f2d275-4379-4e7f-8900-066c08fc26a4"
      },
      "outputs": [
        {
          "output_type": "stream",
          "name": "stdout",
          "text": [
            "<class 'pandas.core.frame.DataFrame'>\n",
            "RangeIndex: 28392 entries, 0 to 28391\n",
            "Data columns (total 13 columns):\n",
            " #   Column                       Non-Null Count  Dtype  \n",
            "---  ------                       --------------  -----  \n",
            " 0   state                        28392 non-null  object \n",
            " 1   bank_account_ownership       28392 non-null  float64\n",
            " 2   financial_inclusion_metrics  28392 non-null  int64  \n",
            " 3   demographic_factors          28392 non-null  object \n",
            " 4   savings_behavior             28392 non-null  object \n",
            " 5   borrowing_behavior           28392 non-null  object \n",
            " 6   digital_payment_adoption     28392 non-null  object \n",
            " 7   access_to_electricity        28392 non-null  object \n",
            " 8   internet_access              28392 non-null  object \n",
            " 9   mobile_phone_usage           28392 non-null  object \n",
            " 10  credit_access                28392 non-null  object \n",
            " 11  small_business_ownership     28392 non-null  object \n",
            " 12  entrepreneurship             28392 non-null  object \n",
            "dtypes: float64(1), int64(1), object(11)\n",
            "memory usage: 2.8+ MB\n"
          ]
        }
      ],
      "source": [
        "df.info()"
      ]
    },
    {
      "cell_type": "code",
      "execution_count": 4,
      "metadata": {
        "id": "EHDTQjJ7aYYc"
      },
      "outputs": [],
      "source": []
    },
    {
      "cell_type": "code",
      "execution_count": 5,
      "metadata": {
        "colab": {
          "base_uri": "https://localhost:8080/"
        },
        "id": "91XByC6WabQ_",
        "outputId": "af2ae2eb-4e81-4c8d-93e9-cbe9e510aacd"
      },
      "outputs": [
        {
          "output_type": "execute_result",
          "data": {
            "text/plain": [
              "array(['Adult, Female, Medium Education, Middle Income, Small Household',\n",
              "       'Adult, Male, Medium Education, Middle Income, Small Household',\n",
              "       'Adult, Male, Low Education, Middle Income, Small Household',\n",
              "       'Adult, Male, Medium Education, Low Income, Small Household',\n",
              "       'Youth, Male, Medium Education, Low Income, Small Household',\n",
              "       'Adult, Female, Medium Education, High Income, Small Household',\n",
              "       'Adult, Female, Low Education, Middle Income, Small Household',\n",
              "       'Youth, Female, Medium Education, High Income, Small Household',\n",
              "       'Youth, Female, Medium Education, Middle Income, Small Household',\n",
              "       'Adult, Female, Medium Education, Low Income, Small Household',\n",
              "       'Youth, Male, Medium Education, Middle Income, Small Household',\n",
              "       'Youth, Male, Medium Education, High Income, Small Household',\n",
              "       'Adult, Female, Low Education, Low Income, Small Household',\n",
              "       'Youth, Male, Low Education, Middle Income, Small Household',\n",
              "       'Youth, Female, Medium Education, Low Income, Small Household',\n",
              "       'Adult, Male, Low Education, Low Income, Small Household',\n",
              "       'Adult, Female, High Education, Middle Income, Small Household',\n",
              "       'Adult, Female, High Education, Low Income, Small Household',\n",
              "       'Adult, Female, Low Education, Middle Income, Medium Household',\n",
              "       'Adult, Male, Medium Education, High Income, Small Household',\n",
              "       'Adult, Male, Low Education, Middle Income, Medium Household',\n",
              "       'Adult, Male, Medium Education, High Income, Medium Household',\n",
              "       'Adult, Male, Medium Education, Middle Income, Medium Household',\n",
              "       'Adult, Female, Medium Education, High Income, Medium Household',\n",
              "       'Adult, Male, High Education, High Income, Small Household',\n",
              "       'Adult, Male, High Education, High Income, Medium Household',\n",
              "       'Youth, Male, Low Education, Low Income, Small Household',\n",
              "       'Adult, Female, High Education, High Income, Small Household',\n",
              "       'Adult, Male, Medium Education, High Income, Large Household',\n",
              "       'Adult, Male, High Education, Middle Income, Small Household',\n",
              "       'Adult, Male, Low Education, High Income, Small Household',\n",
              "       'Adult, Female, Medium Education, Low Income, Medium Household',\n",
              "       'Adult, Female, Medium Education, Middle Income, Medium Household',\n",
              "       'Youth, Male, High Education, Middle Income, Small Household',\n",
              "       'Youth, Female, Low Education, Low Income, Small Household',\n",
              "       'Youth, Male, High Education, Low Income, Small Household',\n",
              "       'Youth, Female, High Education, Low Income, Small Household',\n",
              "       'Adult, Female, High Education, Low Income, Medium Household',\n",
              "       'Adult, Male, High Education, Low Income, Small Household',\n",
              "       'Youth, Male, Medium Education, Low Income, Medium Household',\n",
              "       'Youth, Female, Medium Education, Middle Income, Medium Household',\n",
              "       'Adult, Male, Medium Education, Low Income, Medium Household',\n",
              "       'Youth, Female, Low Education, High Income, Small Household',\n",
              "       'Youth, Male, Low Education, Low Income, Medium Household',\n",
              "       'Youth, Female, Medium Education, Low Income, Medium Household',\n",
              "       'Adult, Female, Low Education, Low Income, Medium Household',\n",
              "       'Adult, Male, High Education, Low Income, Medium Household',\n",
              "       'Youth, Male, Low Education, High Income, Small Household',\n",
              "       'Youth, Female, High Education, Middle Income, Small Household',\n",
              "       'Youth, Male, High Education, Low Income, Medium Household',\n",
              "       'Youth, Female, Low Education, Middle Income, Small Household',\n",
              "       'Youth, Male, Medium Education, Middle Income, Medium Household',\n",
              "       'Adult, Male, Medium Education, Low Income, Large Household',\n",
              "       'Adult, Male, Low Education, Low Income, Medium Household',\n",
              "       'Youth, Female, Low Education, Low Income, Medium Household',\n",
              "       'Youth, Female, Medium Education, Low Income, Large Household',\n",
              "       'Youth, Female, Medium Education, High Income, Medium Household',\n",
              "       'Youth, Male, Medium Education, Middle Income, Large Household',\n",
              "       'Adult, Female, High Education, Middle Income, Medium Household',\n",
              "       'Adult, Female, Medium Education, Low Income, Large Household',\n",
              "       'Youth, Male, Medium Education, Low Income, Large Household',\n",
              "       'Youth, Male, Medium Education, High Income, Medium Household',\n",
              "       'Adult, Male, Medium Education, Middle Income, Large Household',\n",
              "       'Adult, Female, Low Education, High Income, Small Household',\n",
              "       'Adult, Female, Low Education, High Income, Medium Household',\n",
              "       'Youth, Female, High Education, High Income, Small Household',\n",
              "       'Youth, Female, High Education, Low Income, Medium Household',\n",
              "       'Youth, Male, Low Education, Middle Income, Medium Household',\n",
              "       'Adult, Male, High Education, Middle Income, Medium Household',\n",
              "       'Adult, Male, High Education, High Income, Large Household',\n",
              "       'Adult, Female, Medium Education, High Income, Large Household',\n",
              "       'Youth, Male, High Education, High Income, Small Household',\n",
              "       'Youth, Female, Low Education, Middle Income, Medium Household',\n",
              "       'Youth, Female, High Education, Low Income, Large Household',\n",
              "       'Youth, Male, High Education, Middle Income, Medium Household',\n",
              "       'Youth, Male, Low Education, Middle Income, Large Household',\n",
              "       'Youth, Male, Low Education, Low Income, Large Household',\n",
              "       'Adult, Female, High Education, Low Income, Large Household',\n",
              "       'Adult, Male, Low Education, Low Income, Large Household',\n",
              "       'Adult, Female, Low Education, Middle Income, Large Household',\n",
              "       'Adult, Female, Low Education, Low Income, Large Household',\n",
              "       'Youth, Female, Low Education, Low Income, Large Household',\n",
              "       'Youth, Male, High Education, Low Income, Large Household',\n",
              "       'Adult, Male, High Education, Low Income, Large Household',\n",
              "       'Youth, Female, High Education, Middle Income, Medium Household',\n",
              "       'Adult, Male, High Education, Middle Income, Large Household',\n",
              "       'Adult, Female, Medium Education, Middle Income, Large Household',\n",
              "       'Youth, Female, Medium Education, High Income, Large Household',\n",
              "       'Adult, Female, Low Education, High Income, Large Household',\n",
              "       'Youth, Male, Low Education, High Income, Medium Household',\n",
              "       'Youth, Female, Medium Education, Middle Income, Large Household',\n",
              "       'Adult, Female, High Education, High Income, Medium Household',\n",
              "       'Adult, Male, Low Education, Middle Income, Large Household',\n",
              "       'Adult, Female, High Education, Middle Income, Large Household',\n",
              "       'Youth, Male, Medium Education, High Income, Large Household',\n",
              "       'Adult, Male, Low Education, High Income, Medium Household',\n",
              "       'Youth, Male, High Education, High Income, Medium Household',\n",
              "       'Youth, Female, Low Education, High Income, Medium Household',\n",
              "       'Youth, Female, Low Education, Middle Income, Large Household',\n",
              "       'Youth, Female, High Education, Middle Income, Large Household'],\n",
              "      dtype=object)"
            ]
          },
          "metadata": {},
          "execution_count": 5
        }
      ],
      "source": [
        "#Chck for the unique value in demographics column\n",
        "df['demographic_factors'].unique()\n",
        "# split each demographic features into (Age group, Gender, Education level,\n",
        "# income level, household type)"
      ]
    },
    {
      "cell_type": "code",
      "execution_count": 6,
      "metadata": {
        "colab": {
          "base_uri": "https://localhost:8080/"
        },
        "id": "VdZPIK2CbAIz",
        "outputId": "3731cd7e-cea4-421b-9f28-c7d49c492c4c"
      },
      "outputs": [
        {
          "output_type": "stream",
          "name": "stdout",
          "text": [
            "  state  bank_account_ownership  financial_inclusion_metrics  \\\n",
            "0  ABIA                     0.0                            2   \n",
            "1  ABIA                     0.0                            2   \n",
            "2  ABIA                     0.0                            2   \n",
            "3  ABIA                     0.0                            1   \n",
            "4  ABIA                     0.0                            1   \n",
            "\n",
            "                                 demographic_factors savings_behavior  \\\n",
            "0  Adult, Female, Medium Education, Middle Income...    Does Not Save   \n",
            "1  Adult, Female, Medium Education, Middle Income...    Does Not Save   \n",
            "2  Adult, Male, Medium Education, Middle Income, ...    Saves at Home   \n",
            "3  Adult, Male, Medium Education, Middle Income, ...    Does Not Save   \n",
            "4  Adult, Male, Low Education, Middle Income, Sma...    Does Not Save   \n",
            "\n",
            "                  borrowing_behavior  \\\n",
            "0  Does Not Borrow, Purpose: Unknown   \n",
            "1  Does Not Borrow, Purpose: Unknown   \n",
            "2  Does Not Borrow, Purpose: Unknown   \n",
            "3  Does Not Borrow, Purpose: Unknown   \n",
            "4  Does Not Borrow, Purpose: Unknown   \n",
            "\n",
            "                            digital_payment_adoption  \\\n",
            "0  Does Not Use Digital Payments, Frequency: Non-...   \n",
            "1  Does Not Use Digital Payments, Frequency: Non-...   \n",
            "2  Does Not Use Digital Payments, Frequency: Non-...   \n",
            "3  Does Not Use Digital Payments, Frequency: Non-...   \n",
            "4  Does Not Use Digital Payments, Frequency: Non-...   \n",
            "\n",
            "            access_to_electricity                      internet_access  \\\n",
            "0          Likely Has Electricity              No Evidence of Internet   \n",
            "1          Likely Has Electricity              No Evidence of Internet   \n",
            "2          Likely Has Electricity  Potential Internet (Land Ownership)   \n",
            "3          Likely Has Electricity  Potential Internet (Land Ownership)   \n",
            "4  Proximity Suggests Electricity          Proximity Suggests Internet   \n",
            "\n",
            "                                  mobile_phone_usage  \\\n",
            "0  Phone Usage: 1, Phone Type: Feature Phone, Com...   \n",
            "1  Phone Usage: 1, Phone Type: Basic Phone, Comfo...   \n",
            "2  Phone Usage: 1, Phone Type: Basic Phone, Comfo...   \n",
            "3  Phone Usage: 0, Phone Type: No Phone, Comfort ...   \n",
            "4  Phone Usage: 0, Phone Type: No Phone, Comfort ...   \n",
            "\n",
            "                                       credit_access  \\\n",
            "0  Borrowed Money: 0, Borrowing Source: No Borrow...   \n",
            "1  Borrowed Money: 0, Borrowing Source: No Borrow...   \n",
            "2  Borrowed Money: 0, Borrowing Source: No Borrow...   \n",
            "3  Borrowed Money: 0, Borrowing Source: No Borrow...   \n",
            "4  Borrowed Money: 0, Borrowing Source: No Borrow...   \n",
            "\n",
            "                            small_business_ownership  \\\n",
            "0  Business Equipment: 0, Business Tools: Small C...   \n",
            "1  Business Equipment: 0, Business Tools: Small C...   \n",
            "2  Business Equipment: 0, Business Tools: Small C...   \n",
            "3  Business Equipment: 0, Business Tools: No Busi...   \n",
            "4  Business Equipment: 0, Business Tools: No Busi...   \n",
            "\n",
            "                                    entrepreneurship Age group  Gender  \\\n",
            "0  Income Activities: No Income Activities, Sourc...     Adult  Female   \n",
            "1  Income Activities: No Income Activities, Sourc...     Adult  Female   \n",
            "2  Income Activities: No Income Activities, Sourc...     Adult    Male   \n",
            "3  Income Activities: No Income Activities, Sourc...     Adult    Male   \n",
            "4  Income Activities: No Income Activities, Sourc...     Adult    Male   \n",
            "\n",
            "    Education level   Income level   Household type  \n",
            "0  Medium Education  Middle Income  Small Household  \n",
            "1  Medium Education  Middle Income  Small Household  \n",
            "2  Medium Education  Middle Income  Small Household  \n",
            "3  Medium Education  Middle Income  Small Household  \n",
            "4     Low Education  Middle Income  Small Household  \n"
          ]
        }
      ],
      "source": [
        "# split each demographic_factors column  into (Age group, Gender, Education level,\n",
        "# income level, household type)\n",
        "\n",
        "# Split the 'demographic_factors' column\n",
        "df[['Age group', 'Gender', 'Education level', 'Income level', 'Household type']] = df['demographic_factors'].str.split(',', expand=True)\n",
        "\n",
        "# Remove leading/trailing whitespace from the new columns\n",
        "for col in ['Age group', 'Gender', 'Education level', 'Income level', 'Household type']:\n",
        "    df[col] = df[col].str.strip()\n",
        "\n",
        "# Display the updated DataFrame (optional)\n",
        "print(df.head())\n"
      ]
    },
    {
      "cell_type": "code",
      "execution_count": 7,
      "metadata": {
        "colab": {
          "base_uri": "https://localhost:8080/"
        },
        "id": "vUrqDwvCh1iK",
        "outputId": "5eb8dd7b-1c3a-4799-f095-956a40cc682c"
      },
      "outputs": [
        {
          "output_type": "stream",
          "name": "stdout",
          "text": [
            "<class 'pandas.core.frame.DataFrame'>\n",
            "RangeIndex: 28392 entries, 0 to 28391\n",
            "Data columns (total 18 columns):\n",
            " #   Column                       Non-Null Count  Dtype  \n",
            "---  ------                       --------------  -----  \n",
            " 0   state                        28392 non-null  object \n",
            " 1   bank_account_ownership       28392 non-null  float64\n",
            " 2   financial_inclusion_metrics  28392 non-null  int64  \n",
            " 3   demographic_factors          28392 non-null  object \n",
            " 4   savings_behavior             28392 non-null  object \n",
            " 5   borrowing_behavior           28392 non-null  object \n",
            " 6   digital_payment_adoption     28392 non-null  object \n",
            " 7   access_to_electricity        28392 non-null  object \n",
            " 8   internet_access              28392 non-null  object \n",
            " 9   mobile_phone_usage           28392 non-null  object \n",
            " 10  credit_access                28392 non-null  object \n",
            " 11  small_business_ownership     28392 non-null  object \n",
            " 12  entrepreneurship             28392 non-null  object \n",
            " 13  Age group                    28392 non-null  object \n",
            " 14  Gender                       28392 non-null  object \n",
            " 15  Education level              28392 non-null  object \n",
            " 16  Income level                 28392 non-null  object \n",
            " 17  Household type               28392 non-null  object \n",
            "dtypes: float64(1), int64(1), object(16)\n",
            "memory usage: 3.9+ MB\n"
          ]
        }
      ],
      "source": [
        "df.info()"
      ]
    },
    {
      "cell_type": "markdown",
      "metadata": {
        "id": "JTdOQLexj9H8"
      },
      "source": []
    },
    {
      "cell_type": "code",
      "execution_count": 8,
      "metadata": {
        "id": "-5jFUMYidbZZ"
      },
      "outputs": [],
      "source": [
        "#Drop demographic_factors\n",
        "#Dropping features that can cause leakage while using the clustering algorithm\n",
        "\n",
        "leaky_features = ['financial_inclusion_metrics','bank_account_ownership', 'credit_access','demographic_factors']\n",
        "df_cluster = df.drop(columns=leaky_features) #Dataframe for clustering algorithm\n"
      ]
    },
    {
      "cell_type": "code",
      "execution_count": 9,
      "metadata": {
        "id": "0msplKimlYBz",
        "colab": {
          "base_uri": "https://localhost:8080/"
        },
        "outputId": "11c572ae-7439-4475-a15e-9f0a97f0c936"
      },
      "outputs": [
        {
          "output_type": "stream",
          "name": "stdout",
          "text": [
            "<class 'pandas.core.frame.DataFrame'>\n",
            "RangeIndex: 28392 entries, 0 to 28391\n",
            "Data columns (total 14 columns):\n",
            " #   Column                    Non-Null Count  Dtype \n",
            "---  ------                    --------------  ----- \n",
            " 0   state                     28392 non-null  object\n",
            " 1   savings_behavior          28392 non-null  object\n",
            " 2   borrowing_behavior        28392 non-null  object\n",
            " 3   digital_payment_adoption  28392 non-null  object\n",
            " 4   access_to_electricity     28392 non-null  object\n",
            " 5   internet_access           28392 non-null  object\n",
            " 6   mobile_phone_usage        28392 non-null  object\n",
            " 7   small_business_ownership  28392 non-null  object\n",
            " 8   entrepreneurship          28392 non-null  object\n",
            " 9   Age group                 28392 non-null  object\n",
            " 10  Gender                    28392 non-null  object\n",
            " 11  Education level           28392 non-null  object\n",
            " 12  Income level              28392 non-null  object\n",
            " 13  Household type            28392 non-null  object\n",
            "dtypes: object(14)\n",
            "memory usage: 3.0+ MB\n"
          ]
        }
      ],
      "source": [
        "#Checking  the dataframe\n",
        "\n",
        "df_cluster.info()"
      ]
    },
    {
      "cell_type": "code",
      "source": [
        "#To use kmeans algorithm, all featurrs must be numerical thus wewill convert allfeatures to numerical\n",
        "#State feature: feature hasihng willl be used due to its high dmensionallity\n",
        "#onehot encode state\n",
        "df_cluster_state = pd.get_dummies(df_cluster['state'], prefix='state')\n",
        "#onehot encode other categories\n",
        "other_col =['digital_payment_adoption','access_to_electricity','internet_access','mobile_phone_usage','small_business_ownership','entrepreneurship']\n",
        "df_cluster_other =pd.get_dummies(df[other_col], drop_first = True)\n",
        "\n"
      ],
      "metadata": {
        "id": "Pu49yYjlWqsV"
      },
      "execution_count": 10,
      "outputs": []
    },
    {
      "cell_type": "code",
      "source": [
        "#assign colums for label encoding, this type of features are usually the one in order eg education level etc\n",
        "label_col =['Age group','Education level', 'Income level','Household type','savings_behavior','borrowing_behavior', 'Gender']"
      ],
      "metadata": {
        "id": "iUf_L6NTmN56"
      },
      "execution_count": 11,
      "outputs": []
    },
    {
      "cell_type": "code",
      "source": [
        "#applying ordinal encoding to the other columns\n",
        "from sklearn.preprocessing import LabelEncoder\n",
        "\n",
        "le = LabelEncoder()\n",
        "for col in label_col:\n",
        "    df_cluster[col] = le.fit_transform(df_cluster[col])\n"
      ],
      "metadata": {
        "id": "aJE0I_pblmt9"
      },
      "execution_count": 12,
      "outputs": []
    },
    {
      "cell_type": "code",
      "source": [
        "df_cluster_label = df_cluster[col]"
      ],
      "metadata": {
        "id": "SGTPYP-tqrLT"
      },
      "execution_count": 13,
      "outputs": []
    },
    {
      "cell_type": "code",
      "source": [
        "#Combine all encoded features in a datagrame\n",
        "df_encode = pd.concat([df_cluster_state,df_cluster_other,df_cluster_label], axis =1)"
      ],
      "metadata": {
        "id": "LmkCAwmXqUG4"
      },
      "execution_count": 14,
      "outputs": []
    },
    {
      "cell_type": "code",
      "source": [
        "#Normalize all the features\n",
        "\n",
        "from sklearn.preprocessing import StandardScaler\n",
        "\n",
        "\n",
        "scaler = StandardScaler()\n",
        "df_scaled = scaler.fit_transform(df_encode)\n"
      ],
      "metadata": {
        "id": "z6nMaPAeT9IL"
      },
      "execution_count": 15,
      "outputs": []
    },
    {
      "cell_type": "code",
      "source": [
        "\n",
        "#Import KMeans library\n",
        "from sklearn.cluster import KMeans\n"
      ],
      "metadata": {
        "id": "bDlccxS_X0hJ"
      },
      "execution_count": 16,
      "outputs": []
    },
    {
      "cell_type": "code",
      "source": [
        "# List of the 20 most useful columns (replace with your actual column names)\n",
        "'''useful_columns = ['digital_payment_adoption','access_to_electricity','internet_access',\n",
        "                  'mobile_phone_usage','small_business_ownership','entrepreneurship',\n",
        "                 'Age group','Education level', 'Income level','Household type',\n",
        "                  'savings_behavior','borrowing_behavior', 'Gender','state' ]'''\n",
        "#Check for missing values/rows\n",
        "df_encode.isna().sum()\n",
        "\n",
        "\n",
        "#Create the feature matrix X\n",
        "X = df_encode.dropna()\n",
        "\n",
        "\n",
        "\n",
        "\n",
        "# Create an empty list to store inertia values to check for the best k(number of clusters)\n",
        "inertia = []\n",
        "\n",
        "# Try different numbers of clusters (from 1 to 10)\n",
        "for k in range(1, 11):\n",
        "    kmeans = KMeans(n_clusters=k, random_state=42)\n",
        "    kmeans.fit(X)\n",
        "    inertia.append(kmeans.inertia_)\n",
        "\n",
        "# Plot the inertia vs. number of clusters\n",
        "plt.plot(range(1, 11), inertia, marker='o')\n",
        "plt.xlabel('Number of clusters (k)')\n",
        "plt.ylabel('Inertia')\n",
        "plt.title('Elbow Method For Optimal k')\n",
        "plt.grid(True)\n",
        "plt.show()\n"
      ],
      "metadata": {
        "colab": {
          "base_uri": "https://localhost:8080/",
          "height": 472
        },
        "id": "5POZs8jPYcHG",
        "outputId": "9ab1160c-0e32-4340-841f-2821a3664338"
      },
      "execution_count": 17,
      "outputs": [
        {
          "data": {
            "image/png": "[encoded data removed]",
            "text/plain": [
              "<Figure size 640x480 with 1 Axes>"
            ]
          },
          "metadata": {},
          "output_type": "display_data"
        }
      ]
    },
    {
      "cell_type": "markdown",
      "source": [
        "##**KMeans Clustering Algorithm**\n",
        "From the diagram above, the bend in the elbow occurs at k = 4, thus we will choose 4 clusters for the Kmeans algorithm."
      ],
      "metadata": {
        "id": "CVACCrN8v_1U"
      }
    },
    {
      "cell_type": "code",
      "source": [
        "# Create a KMeans model with 4 clusters since the bend in k above is at k = 4\n",
        "kmeans = KMeans(n_clusters=4, random_state=42)\n",
        "\n",
        "# Fit (train) the model\n",
        "df_encode['cluster'] = kmeans.fit_predict(df_scaled)\n",
        "\n"
      ],
      "metadata": {
        "id": "ICOrJdG7dv30"
      },
      "execution_count": 18,
      "outputs": []
    },
    {
      "cell_type": "markdown",
      "source": [
        "###Visualization of the Clustering Algorithm\n"
      ],
      "metadata": {
        "id": "nESydfrqw2zp"
      }
    },
    {
      "cell_type": "code",
      "source": [
        "from sklearn.decomposition import PCA\n",
        "import matplotlib.pyplot as plt\n",
        "\n",
        "# Reduce to 2 principal components for dimension reduction\n",
        "pca = PCA(n_components=2)\n",
        "pca_result = pca.fit_transform(df_scaled)\n",
        "\n",
        "# Add PCA results to DataFrame for plotting\n",
        "df_encode['pca1'] = pca_result[:, 0]\n",
        "df_encode['pca2'] = pca_result[:, 1]\n",
        "\n",
        "\n",
        "\n"
      ],
      "metadata": {
        "id": "OUyM3Me0xFL8"
      },
      "execution_count": 19,
      "outputs": []
    },
    {
      "cell_type": "code",
      "source": [
        "import seaborn as sns\n",
        "\n",
        "plt.figure(figsize=(10, 6))\n",
        "sns.scatterplot(data=df_encode, x='pca1', y='pca2', hue='cluster', palette='Set1')\n",
        "plt.title('K-Means Clusters Visualized in 2D PCA Space')\n",
        "plt.show()\n"
      ],
      "metadata": {
        "colab": {
          "base_uri": "https://localhost:8080/",
          "height": 564
        },
        "id": "W7JcM8n20wP7",
        "outputId": "7564a4b8-3f95-45d0-d87c-8693b2a8a771"
      },
      "execution_count": 20,
      "outputs": [
        {
          "output_type": "display_data",
          "data": {
            "text/plain": [
              "<Figure size 1000x600 with 1 Axes>"
            ],
            "image/png": "[encoded data removed]"
          },
          "metadata": {}
        }
      ]
    },
    {
      "cell_type": "code",
      "source": [
        "#Summarize clusters\n",
        "cluster_summary = df_encode.groupby('cluster').mean()\n",
        "print(cluster_summary)\n"
      ],
      "metadata": {
        "colab": {
          "base_uri": "https://localhost:8080/"
        },
        "id": "bNToGJzx1hoC",
        "outputId": "f921b5a8-d712-454e-ecdf-4fccb7bf2fb0"
      },
      "execution_count": 21,
      "outputs": [
        {
          "output_type": "stream",
          "name": "stdout",
          "text": [
            "         state_ABIA  state_ADAMAWA  state_AKWA IBOM  state_ANAMBRA  \\\n",
            "cluster                                                              \n",
            "0          0.031818       0.030113         0.030321       0.029988   \n",
            "1          0.004141       0.014493         0.010122       0.012422   \n",
            "2          0.000000       1.000000         0.000000       0.000000   \n",
            "3          0.000000       0.000000         0.000000       0.000000   \n",
            "\n",
            "         state_BAUCHI  state_BAYELSA  state_BENUE  state_BORNO  \\\n",
            "cluster                                                          \n",
            "0            0.028782       0.030653     0.030071     0.029115   \n",
            "1            0.015183       0.007131     0.014493     0.016793   \n",
            "2            0.000000       0.000000     0.000000     0.000000   \n",
            "3            0.000000       0.000000     0.000000     0.000000   \n",
            "\n",
            "         state_CROSS RIVER  state_DELTA  ...  \\\n",
            "cluster                                  ...   \n",
            "0                 0.028615     0.026827  ...   \n",
            "1                 0.016793     0.025075  ...   \n",
            "2                 0.000000     0.000000  ...   \n",
            "3                 0.000000     0.000000  ...   \n",
            "\n",
            "         entrepreneurship_Income Activities: Trade, Sources of Income: Primary Source: Unknown, Secondary Sources: None, Business Equipment: Unknown, Control Over Assets: Unknown, Proximity to Services: No Proximity to Services, Borrowing Sources: No Borrowing Sources, Sectors of Income: Agriculture, Employees: 6  \\\n",
            "cluster                                                                                                                                                                                                                                                                                                                      \n",
            "0                                                 0.000042                                                                                                                                                                                                                                                                   \n",
            "1                                                 0.000000                                                                                                                                                                                                                                                                   \n",
            "2                                                 0.000000                                                                                                                                                                                                                                                                   \n",
            "3                                                 0.000000                                                                                                                                                                                                                                                                   \n",
            "\n",
            "         entrepreneurship_Income Activities: Trade, Sources of Income: Primary Source: Unknown, Secondary Sources: None, Business Equipment: Unknown, Control Over Assets: Unknown, Proximity to Services: No Proximity to Services, Borrowing Sources: No Borrowing Sources, Sectors of Income: No Sectors, Employees: 0  \\\n",
            "cluster                                                                                                                                                                                                                                                                                                                     \n",
            "0                                                 0.000291                                                                                                                                                                                                                                                                  \n",
            "1                                                 0.000000                                                                                                                                                                                                                                                                  \n",
            "2                                                 0.000000                                                                                                                                                                                                                                                                  \n",
            "3                                                 0.000000                                                                                                                                                                                                                                                                  \n",
            "\n",
            "         entrepreneurship_Income Activities: Trade, Sources of Income: Primary Source: Unknown, Secondary Sources: None, Business Equipment: Unknown, Control Over Assets: Unknown, Proximity to Services: No Proximity to Services, Borrowing Sources: No Borrowing Sources, Sectors of Income: No Sectors, Employees: 2  \\\n",
            "cluster                                                                                                                                                                                                                                                                                                                     \n",
            "0                                                 0.000042                                                                                                                                                                                                                                                                  \n",
            "1                                                 0.000000                                                                                                                                                                                                                                                                  \n",
            "2                                                 0.000000                                                                                                                                                                                                                                                                  \n",
            "3                                                 0.000000                                                                                                                                                                                                                                                                  \n",
            "\n",
            "         entrepreneurship_Income Activities: Trade, Sources of Income: Primary Source: Unknown, Secondary Sources: None, Business Equipment: Unknown, Control Over Assets: Unknown, Proximity to Services: Shop, Borrowing Sources: No Borrowing Sources, Sectors of Income: No Sectors, Employees: 0  \\\n",
            "cluster                                                                                                                                                                                                                                                                                                 \n",
            "0                                                 0.000042                                                                                                                                                                                                                                              \n",
            "1                                                 0.000000                                                                                                                                                                                                                                              \n",
            "2                                                 0.000000                                                                                                                                                                                                                                              \n",
            "3                                                 0.000000                                                                                                                                                                                                                                              \n",
            "\n",
            "         entrepreneurship_Income Activities: Trade, Sources of Income: Primary Source: Unknown, Secondary Sources: Trade, Business Equipment: No Business Equipment, Control Over Assets: Full Control, Proximity to Services: Shop, Borrowing Sources: Bank, Sectors of Income: No Sectors, Employees: 4  \\\n",
            "cluster                                                                                                                                                                                                                                                                                                     \n",
            "0                                                      0.0                                                                                                                                                                                                                                                  \n",
            "1                                                      0.0                                                                                                                                                                                                                                                  \n",
            "2                                                      0.0                                                                                                                                                                                                                                                  \n",
            "3                                                      1.0                                                                                                                                                                                                                                                  \n",
            "\n",
            "         entrepreneurship_Income Activities: Trade, Sources of Income: Primary Source: Unknown, Secondary Sources: Trade, Business Equipment: Unknown, Control Over Assets: Unknown, Proximity to Services: Shop, Borrowing Sources: Bank, Microfinance Institution, Sectors of Income: Services, Employees: 2  \\\n",
            "cluster                                                                                                                                                                                                                                                                                                          \n",
            "0                                                 0.000042                                                                                                                                                                                                                                                       \n",
            "1                                                 0.000000                                                                                                                                                                                                                                                       \n",
            "2                                                 0.000000                                                                                                                                                                                                                                                       \n",
            "3                                                 0.000000                                                                                                                                                                                                                                                       \n",
            "\n",
            "         entrepreneurship_Income Activities: Trade, Sources of Income: Primary Source: Unknown, Secondary Sources: Trade, Business Equipment: Unknown, Control Over Assets: Unknown, Proximity to Services: Shop, Borrowing Sources: Bank, Sectors of Income: No Sectors, Employees: 2  \\\n",
            "cluster                                                                                                                                                                                                                                                                                  \n",
            "0                                                 0.000042                                                                                                                                                                                                                               \n",
            "1                                                 0.000000                                                                                                                                                                                                                               \n",
            "2                                                 0.000000                                                                                                                                                                                                                               \n",
            "3                                                 0.000000                                                                                                                                                                                                                               \n",
            "\n",
            "           Gender      pca1       pca2  \n",
            "cluster                                 \n",
            "0        0.464210  0.505842   0.058295  \n",
            "1        0.467449 -2.796411  -0.318383  \n",
            "2        1.000000 -3.052191   0.805553  \n",
            "3        0.000000 -2.902792 -18.381389  \n",
            "\n",
            "[4 rows x 1854 columns]\n"
          ]
        }
      ]
    },
    {
      "cell_type": "markdown",
      "source": [
        "##Shapley values for Explanation of the Clustering Algorithm Result\n"
      ],
      "metadata": {
        "id": "iBo3XFsW1y0u"
      }
    },
    {
      "cell_type": "code",
      "source": [
        "X = df_encode.drop(columns=['cluster', 'pca1', 'pca2'])  # Features only\n",
        "y = df_encode['cluster']  # Cluster labels from KMeans\n"
      ],
      "metadata": {
        "id": "03QO7fSs184r"
      },
      "execution_count": 22,
      "outputs": []
    },
    {
      "cell_type": "code",
      "source": [
        "from sklearn.ensemble import RandomForestClassifier\n",
        "\n",
        "model = RandomForestClassifier(n_estimators=100, random_state=42)\n",
        "model.fit(X, y)\n"
      ],
      "metadata": {
        "colab": {
          "base_uri": "https://localhost:8080/",
          "height": 80
        },
        "id": "TYgl4qKg2UG7",
        "outputId": "e96ccd9a-c524-4b27-99a2-9f51fd262676"
      },
      "execution_count": 23,
      "outputs": [
        {
          "output_type": "execute_result",
          "data": {
            "text/plain": [
              "RandomForestClassifier(random_state=42)"
            ],
            "text/html": [
              "<style>#sk-container-id-1 {\n",
              "  /* Definition of color scheme common for light and dark mode */\n",
              "  --sklearn-color-text: #000;\n",
              "  --sklearn-color-text-muted: #666;\n",
              "  --sklearn-color-line: gray;\n",
              "  /* Definition of color scheme for unfitted estimators */\n",
              "  --sklearn-color-unfitted-level-0: #fff5e6;\n",
              "  --sklearn-color-unfitted-level-1: #f6e4d2;\n",
              "  --sklearn-color-unfitted-level-2: #ffe0b3;\n",
              "  --sklearn-color-unfitted-level-3: chocolate;\n",
              "  /* Definition of color scheme for fitted estimators */\n",
              "  --sklearn-color-fitted-level-0: #f0f8ff;\n",
              "  --sklearn-color-fitted-level-1: #d4ebff;\n",
              "  --sklearn-color-fitted-level-2: #b3dbfd;\n",
              "  --sklearn-color-fitted-level-3: cornflowerblue;\n",
              "\n",
              "  /* Specific color for light theme */\n",
              "  --sklearn-color-text-on-default-background: var(--sg-text-color, var(--theme-code-foreground, var(--jp-content-font-color1, black)));\n",
              "  --sklearn-color-background: var(--sg-background-color, var(--theme-background, var(--jp-layout-color0, white)));\n",
              "  --sklearn-color-border-box: var(--sg-text-color, var(--theme-code-foreground, var(--jp-content-font-color1, black)));\n",
              "  --sklearn-color-icon: #696969;\n",
              "\n",
              "  @media (prefers-color-scheme: dark) {\n",
              "    /* Redefinition of color scheme for dark theme */\n",
              "    --sklearn-color-text-on-default-background: var(--sg-text-color, var(--theme-code-foreground, var(--jp-content-font-color1, white)));\n",
              "    --sklearn-color-background: var(--sg-background-color, var(--theme-background, var(--jp-layout-color0, #111)));\n",
              "    --sklearn-color-border-box: var(--sg-text-color, var(--theme-code-foreground, var(--jp-content-font-color1, white)));\n",
              "    --sklearn-color-icon: #878787;\n",
              "  }\n",
              "}\n",
              "\n",
              "#sk-container-id-1 {\n",
              "  color: var(--sklearn-color-text);\n",
              "}\n",
              "\n",
              "#sk-container-id-1 pre {\n",
              "  padding: 0;\n",
              "}\n",
              "\n",
              "#sk-container-id-1 input.sk-hidden--visually {\n",
              "  border: 0;\n",
              "  clip: rect(1px 1px 1px 1px);\n",
              "  clip: rect(1px, 1px, 1px, 1px);\n",
              "  height: 1px;\n",
              "  margin: -1px;\n",
              "  overflow: hidden;\n",
              "  padding: 0;\n",
              "  position: absolute;\n",
              "  width: 1px;\n",
              "}\n",
              "\n",
              "#sk-container-id-1 div.sk-dashed-wrapped {\n",
              "  border: 1px dashed var(--sklearn-color-line);\n",
              "  margin: 0 0.4em 0.5em 0.4em;\n",
              "  box-sizing: border-box;\n",
              "  padding-bottom: 0.4em;\n",
              "  background-color: var(--sklearn-color-background);\n",
              "}\n",
              "\n",
              "#sk-container-id-1 div.sk-container {\n",
              "  /* jupyter's `normalize.less` sets `[hidden] { display: none; }`\n",
              "     but bootstrap.min.css set `[hidden] { display: none !important; }`\n",
              "     so we also need the `!important` here to be able to override the\n",
              "     default hidden behavior on the sphinx rendered scikit-learn.org.\n",
              "     See: https://github.com/scikit-learn/scikit-learn/issues/21755 */\n",
              "  display: inline-block !important;\n",
              "  position: relative;\n",
              "}\n",
              "\n",
              "#sk-container-id-1 div.sk-text-repr-fallback {\n",
              "  display: none;\n",
              "}\n",
              "\n",
              "div.sk-parallel-item,\n",
              "div.sk-serial,\n",
              "div.sk-item {\n",
              "  /* draw centered vertical line to link estimators */\n",
              "  background-image: linear-gradient(var(--sklearn-color-text-on-default-background), var(--sklearn-color-text-on-default-background));\n",
              "  background-size: 2px 100%;\n",
              "  background-repeat: no-repeat;\n",
              "  background-position: center center;\n",
              "}\n",
              "\n",
              "/* Parallel-specific style estimator block */\n",
              "\n",
              "#sk-container-id-1 div.sk-parallel-item::after {\n",
              "  content: \"\";\n",
              "  width: 100%;\n",
              "  border-bottom: 2px solid var(--sklearn-color-text-on-default-background);\n",
              "  flex-grow: 1;\n",
              "}\n",
              "\n",
              "#sk-container-id-1 div.sk-parallel {\n",
              "  display: flex;\n",
              "  align-items: stretch;\n",
              "  justify-content: center;\n",
              "  background-color: var(--sklearn-color-background);\n",
              "  position: relative;\n",
              "}\n",
              "\n",
              "#sk-container-id-1 div.sk-parallel-item {\n",
              "  display: flex;\n",
              "  flex-direction: column;\n",
              "}\n",
              "\n",
              "#sk-container-id-1 div.sk-parallel-item:first-child::after {\n",
              "  align-self: flex-end;\n",
              "  width: 50%;\n",
              "}\n",
              "\n",
              "#sk-container-id-1 div.sk-parallel-item:last-child::after {\n",
              "  align-self: flex-start;\n",
              "  width: 50%;\n",
              "}\n",
              "\n",
              "#sk-container-id-1 div.sk-parallel-item:only-child::after {\n",
              "  width: 0;\n",
              "}\n",
              "\n",
              "/* Serial-specific style estimator block */\n",
              "\n",
              "#sk-container-id-1 div.sk-serial {\n",
              "  display: flex;\n",
              "  flex-direction: column;\n",
              "  align-items: center;\n",
              "  background-color: var(--sklearn-color-background);\n",
              "  padding-right: 1em;\n",
              "  padding-left: 1em;\n",
              "}\n",
              "\n",
              "\n",
              "/* Toggleable style: style used for estimator/Pipeline/ColumnTransformer box that is\n",
              "clickable and can be expanded/collapsed.\n",
              "- Pipeline and ColumnTransformer use this feature and define the default style\n",
              "- Estimators will overwrite some part of the style using the `sk-estimator` class\n",
              "*/\n",
              "\n",
              "/* Pipeline and ColumnTransformer style (default) */\n",
              "\n",
              "#sk-container-id-1 div.sk-toggleable {\n",
              "  /* Default theme specific background. It is overwritten whether we have a\n",
              "  specific estimator or a Pipeline/ColumnTransformer */\n",
              "  background-color: var(--sklearn-color-background);\n",
              "}\n",
              "\n",
              "/* Toggleable label */\n",
              "#sk-container-id-1 label.sk-toggleable__label {\n",
              "  cursor: pointer;\n",
              "  display: flex;\n",
              "  width: 100%;\n",
              "  margin-bottom: 0;\n",
              "  padding: 0.5em;\n",
              "  box-sizing: border-box;\n",
              "  text-align: center;\n",
              "  align-items: start;\n",
              "  justify-content: space-between;\n",
              "  gap: 0.5em;\n",
              "}\n",
              "\n",
              "#sk-container-id-1 label.sk-toggleable__label .caption {\n",
              "  font-size: 0.6rem;\n",
              "  font-weight: lighter;\n",
              "  color: var(--sklearn-color-text-muted);\n",
              "}\n",
              "\n",
              "#sk-container-id-1 label.sk-toggleable__label-arrow:before {\n",
              "  /* Arrow on the left of the label */\n",
              "  content: \"▸\";\n",
              "  float: left;\n",
              "  margin-right: 0.25em;\n",
              "  color: var(--sklearn-color-icon);\n",
              "}\n",
              "\n",
              "#sk-container-id-1 label.sk-toggleable__label-arrow:hover:before {\n",
              "  color: var(--sklearn-color-text);\n",
              "}\n",
              "\n",
              "/* Toggleable content - dropdown */\n",
              "\n",
              "#sk-container-id-1 div.sk-toggleable__content {\n",
              "  max-height: 0;\n",
              "  max-width: 0;\n",
              "  overflow: hidden;\n",
              "  text-align: left;\n",
              "  /* unfitted */\n",
              "  background-color: var(--sklearn-color-unfitted-level-0);\n",
              "}\n",
              "\n",
              "#sk-container-id-1 div.sk-toggleable__content.fitted {\n",
              "  /* fitted */\n",
              "  background-color: var(--sklearn-color-fitted-level-0);\n",
              "}\n",
              "\n",
              "#sk-container-id-1 div.sk-toggleable__content pre {\n",
              "  margin: 0.2em;\n",
              "  border-radius: 0.25em;\n",
              "  color: var(--sklearn-color-text);\n",
              "  /* unfitted */\n",
              "  background-color: var(--sklearn-color-unfitted-level-0);\n",
              "}\n",
              "\n",
              "#sk-container-id-1 div.sk-toggleable__content.fitted pre {\n",
              "  /* unfitted */\n",
              "  background-color: var(--sklearn-color-fitted-level-0);\n",
              "}\n",
              "\n",
              "#sk-container-id-1 input.sk-toggleable__control:checked~div.sk-toggleable__content {\n",
              "  /* Expand drop-down */\n",
              "  max-height: 200px;\n",
              "  max-width: 100%;\n",
              "  overflow: auto;\n",
              "}\n",
              "\n",
              "#sk-container-id-1 input.sk-toggleable__control:checked~label.sk-toggleable__label-arrow:before {\n",
              "  content: \"▾\";\n",
              "}\n",
              "\n",
              "/* Pipeline/ColumnTransformer-specific style */\n",
              "\n",
              "#sk-container-id-1 div.sk-label input.sk-toggleable__control:checked~label.sk-toggleable__label {\n",
              "  color: var(--sklearn-color-text);\n",
              "  background-color: var(--sklearn-color-unfitted-level-2);\n",
              "}\n",
              "\n",
              "#sk-container-id-1 div.sk-label.fitted input.sk-toggleable__control:checked~label.sk-toggleable__label {\n",
              "  background-color: var(--sklearn-color-fitted-level-2);\n",
              "}\n",
              "\n",
              "/* Estimator-specific style */\n",
              "\n",
              "/* Colorize estimator box */\n",
              "#sk-container-id-1 div.sk-estimator input.sk-toggleable__control:checked~label.sk-toggleable__label {\n",
              "  /* unfitted */\n",
              "  background-color: var(--sklearn-color-unfitted-level-2);\n",
              "}\n",
              "\n",
              "#sk-container-id-1 div.sk-estimator.fitted input.sk-toggleable__control:checked~label.sk-toggleable__label {\n",
              "  /* fitted */\n",
              "  background-color: var(--sklearn-color-fitted-level-2);\n",
              "}\n",
              "\n",
              "#sk-container-id-1 div.sk-label label.sk-toggleable__label,\n",
              "#sk-container-id-1 div.sk-label label {\n",
              "  /* The background is the default theme color */\n",
              "  color: var(--sklearn-color-text-on-default-background);\n",
              "}\n",
              "\n",
              "/* On hover, darken the color of the background */\n",
              "#sk-container-id-1 div.sk-label:hover label.sk-toggleable__label {\n",
              "  color: var(--sklearn-color-text);\n",
              "  background-color: var(--sklearn-color-unfitted-level-2);\n",
              "}\n",
              "\n",
              "/* Label box, darken color on hover, fitted */\n",
              "#sk-container-id-1 div.sk-label.fitted:hover label.sk-toggleable__label.fitted {\n",
              "  color: var(--sklearn-color-text);\n",
              "  background-color: var(--sklearn-color-fitted-level-2);\n",
              "}\n",
              "\n",
              "/* Estimator label */\n",
              "\n",
              "#sk-container-id-1 div.sk-label label {\n",
              "  font-family: monospace;\n",
              "  font-weight: bold;\n",
              "  display: inline-block;\n",
              "  line-height: 1.2em;\n",
              "}\n",
              "\n",
              "#sk-container-id-1 div.sk-label-container {\n",
              "  text-align: center;\n",
              "}\n",
              "\n",
              "/* Estimator-specific */\n",
              "#sk-container-id-1 div.sk-estimator {\n",
              "  font-family: monospace;\n",
              "  border: 1px dotted var(--sklearn-color-border-box);\n",
              "  border-radius: 0.25em;\n",
              "  box-sizing: border-box;\n",
              "  margin-bottom: 0.5em;\n",
              "  /* unfitted */\n",
              "  background-color: var(--sklearn-color-unfitted-level-0);\n",
              "}\n",
              "\n",
              "#sk-container-id-1 div.sk-estimator.fitted {\n",
              "  /* fitted */\n",
              "  background-color: var(--sklearn-color-fitted-level-0);\n",
              "}\n",
              "\n",
              "/* on hover */\n",
              "#sk-container-id-1 div.sk-estimator:hover {\n",
              "  /* unfitted */\n",
              "  background-color: var(--sklearn-color-unfitted-level-2);\n",
              "}\n",
              "\n",
              "#sk-container-id-1 div.sk-estimator.fitted:hover {\n",
              "  /* fitted */\n",
              "  background-color: var(--sklearn-color-fitted-level-2);\n",
              "}\n",
              "\n",
              "/* Specification for estimator info (e.g. \"i\" and \"?\") */\n",
              "\n",
              "/* Common style for \"i\" and \"?\" */\n",
              "\n",
              ".sk-estimator-doc-link,\n",
              "a:link.sk-estimator-doc-link,\n",
              "a:visited.sk-estimator-doc-link {\n",
              "  float: right;\n",
              "  font-size: smaller;\n",
              "  line-height: 1em;\n",
              "  font-family: monospace;\n",
              "  background-color: var(--sklearn-color-background);\n",
              "  border-radius: 1em;\n",
              "  height: 1em;\n",
              "  width: 1em;\n",
              "  text-decoration: none !important;\n",
              "  margin-left: 0.5em;\n",
              "  text-align: center;\n",
              "  /* unfitted */\n",
              "  border: var(--sklearn-color-unfitted-level-1) 1pt solid;\n",
              "  color: var(--sklearn-color-unfitted-level-1);\n",
              "}\n",
              "\n",
              ".sk-estimator-doc-link.fitted,\n",
              "a:link.sk-estimator-doc-link.fitted,\n",
              "a:visited.sk-estimator-doc-link.fitted {\n",
              "  /* fitted */\n",
              "  border: var(--sklearn-color-fitted-level-1) 1pt solid;\n",
              "  color: var(--sklearn-color-fitted-level-1);\n",
              "}\n",
              "\n",
              "/* On hover */\n",
              "div.sk-estimator:hover .sk-estimator-doc-link:hover,\n",
              ".sk-estimator-doc-link:hover,\n",
              "div.sk-label-container:hover .sk-estimator-doc-link:hover,\n",
              ".sk-estimator-doc-link:hover {\n",
              "  /* unfitted */\n",
              "  background-color: var(--sklearn-color-unfitted-level-3);\n",
              "  color: var(--sklearn-color-background);\n",
              "  text-decoration: none;\n",
              "}\n",
              "\n",
              "div.sk-estimator.fitted:hover .sk-estimator-doc-link.fitted:hover,\n",
              ".sk-estimator-doc-link.fitted:hover,\n",
              "div.sk-label-container:hover .sk-estimator-doc-link.fitted:hover,\n",
              ".sk-estimator-doc-link.fitted:hover {\n",
              "  /* fitted */\n",
              "  background-color: var(--sklearn-color-fitted-level-3);\n",
              "  color: var(--sklearn-color-background);\n",
              "  text-decoration: none;\n",
              "}\n",
              "\n",
              "/* Span, style for the box shown on hovering the info icon */\n",
              ".sk-estimator-doc-link span {\n",
              "  display: none;\n",
              "  z-index: 9999;\n",
              "  position: relative;\n",
              "  font-weight: normal;\n",
              "  right: .2ex;\n",
              "  padding: .5ex;\n",
              "  margin: .5ex;\n",
              "  width: min-content;\n",
              "  min-width: 20ex;\n",
              "  max-width: 50ex;\n",
              "  color: var(--sklearn-color-text);\n",
              "  box-shadow: 2pt 2pt 4pt #999;\n",
              "  /* unfitted */\n",
              "  background: var(--sklearn-color-unfitted-level-0);\n",
              "  border: .5pt solid var(--sklearn-color-unfitted-level-3);\n",
              "}\n",
              "\n",
              ".sk-estimator-doc-link.fitted span {\n",
              "  /* fitted */\n",
              "  background: var(--sklearn-color-fitted-level-0);\n",
              "  border: var(--sklearn-color-fitted-level-3);\n",
              "}\n",
              "\n",
              ".sk-estimator-doc-link:hover span {\n",
              "  display: block;\n",
              "}\n",
              "\n",
              "/* \"?\"-specific style due to the `<a>` HTML tag */\n",
              "\n",
              "#sk-container-id-1 a.estimator_doc_link {\n",
              "  float: right;\n",
              "  font-size: 1rem;\n",
              "  line-height: 1em;\n",
              "  font-family: monospace;\n",
              "  background-color: var(--sklearn-color-background);\n",
              "  border-radius: 1rem;\n",
              "  height: 1rem;\n",
              "  width: 1rem;\n",
              "  text-decoration: none;\n",
              "  /* unfitted */\n",
              "  color: var(--sklearn-color-unfitted-level-1);\n",
              "  border: var(--sklearn-color-unfitted-level-1) 1pt solid;\n",
              "}\n",
              "\n",
              "#sk-container-id-1 a.estimator_doc_link.fitted {\n",
              "  /* fitted */\n",
              "  border: var(--sklearn-color-fitted-level-1) 1pt solid;\n",
              "  color: var(--sklearn-color-fitted-level-1);\n",
              "}\n",
              "\n",
              "/* On hover */\n",
              "#sk-container-id-1 a.estimator_doc_link:hover {\n",
              "  /* unfitted */\n",
              "  background-color: var(--sklearn-color-unfitted-level-3);\n",
              "  color: var(--sklearn-color-background);\n",
              "  text-decoration: none;\n",
              "}\n",
              "\n",
              "#sk-container-id-1 a.estimator_doc_link.fitted:hover {\n",
              "  /* fitted */\n",
              "  background-color: var(--sklearn-color-fitted-level-3);\n",
              "}\n",
              "</style><div id=\"sk-container-id-1\" class=\"sk-top-container\"><div class=\"sk-text-repr-fallback\"><pre>RandomForestClassifier(random_state=42)</pre><b>In a Jupyter environment, please rerun this cell to show the HTML representation or trust the notebook. <br />On GitHub, the HTML representation is unable to render, please try loading this page with nbviewer.org.</b></div><div class=\"sk-container\" hidden><div class=\"sk-item\"><div class=\"sk-estimator fitted sk-toggleable\"><input class=\"sk-toggleable__control sk-hidden--visually\" id=\"sk-estimator-id-1\" type=\"checkbox\" checked><label for=\"sk-estimator-id-1\" class=\"sk-toggleable__label fitted sk-toggleable__label-arrow\"><div><div>RandomForestClassifier</div></div><div><a class=\"sk-estimator-doc-link fitted\" rel=\"noreferrer\" target=\"_blank\" href=\"https://scikit-learn.org/1.6/modules/generated/sklearn.ensemble.RandomForestClassifier.html\">?<span>Documentation for RandomForestClassifier</span></a><span class=\"sk-estimator-doc-link fitted\">i<span>Fitted</span></span></div></label><div class=\"sk-toggleable__content fitted\"><pre>RandomForestClassifier(random_state=42)</pre></div> </div></div></div></div>"
            ]
          },
          "metadata": {},
          "execution_count": 23
        }
      ]
    },
    {
      "cell_type": "code",
      "source": [
        "!pip install shap\n",
        "\n",
        "import shap\n"
      ],
      "metadata": {
        "id": "SJRQ1coO2W9d"
      },
      "execution_count": null,
      "outputs": []
    },
    {
      "cell_type": "code",
      "source": [
        "X_sample = X.sample(n=1000, random_state=42)\n",
        "explainer = shap.TreeExplainer(model)\n",
        "shap_values = explainer.shap_values(X_sample)\n"
      ],
      "metadata": {
        "id": "ICv8HrRtDcXb"
      },
      "execution_count": null,
      "outputs": []
    },
    {
      "cell_type": "code",
      "source": [
        "shap.summary_plot(shap_values, X)\n"
      ],
      "metadata": {
        "id": "DBh_lDCJ2gUE"
      },
      "execution_count": null,
      "outputs": []
    },
    {
      "cell_type": "code",
      "source": [
        "shap.summary_plot(shap_values[0], X)  # For cluster 0\n"
      ],
      "metadata": {
        "id": "KTkGzeMD2stv"
      },
      "execution_count": null,
      "outputs": []
    }
  ],
  "metadata": {
    "colab": {
      "provenance": []
    },
    "kernelspec": {
      "display_name": "Python 3",
      "name": "python3"
    },
    "language_info": {
      "name": "python"
    }
  },
  "nbformat": 4,
  "nbformat_minor": 0
}