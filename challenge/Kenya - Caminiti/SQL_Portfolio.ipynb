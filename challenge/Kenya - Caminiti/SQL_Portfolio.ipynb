{
  "nbformat": 4,
  "nbformat_minor": 0,
  "metadata": {
    "colab": {
      "provenance": [],
      "mount_file_id": "1IMAh_MEbFWlMFoZRMYGEp8ow3J2xyJjh",
      "authorship_tag": "ABX9TyNl8lfr+LOr8hR+0D3DC89o",
      "include_colab_link": true
    },
    "kernelspec": {
      "name": "python3",
      "display_name": "Python 3"
    },
    "language_info": {
      "name": "python"
    }
  },
  "cells": [
    {
      "cell_type": "markdown",
      "metadata": {
        "id": "view-in-github",
        "colab_type": "text"
      },
      "source": [
        "<a href=\"https://colab.research.google.com/github/mrc329/datakit-financial-inclusion-2025/blob/main/SQL_Portfolio.ipynb\" target=\"_parent\"><img src=\"https://colab.research.google.com/assets/colab-badge.svg\" alt=\"Open In Colab\"/></a>"
      ]
    },
    {
      "cell_type": "code",
      "execution_count": null,
      "metadata": {
        "colab": {
          "base_uri": "https://localhost:8080/"
        },
        "id": "AnGXEUogIx_D",
        "outputId": "36ba4184-c995-4941-bce2-1bee981e70bb"
      },
      "outputs": [
        {
          "output_type": "stream",
          "name": "stdout",
          "text": [
            "--2025-04-29 12:51:27--  https://raw.githubusercontent.com/mrc329/sql-portfolio/main/kenya_census_cleaned.csv\n",
            "Resolving raw.githubusercontent.com (raw.githubusercontent.com)... 185.199.108.133, 185.199.109.133, 185.199.110.133, ...\n",
            "Connecting to raw.githubusercontent.com (raw.githubusercontent.com)|185.199.108.133|:443... connected.\n",
            "HTTP request sent, awaiting response... 200 OK\n",
            "Length: 5078 (5.0K) [text/plain]\n",
            "Saving to: ‘kenya_census_cleaned.csv’\n",
            "\n",
            "kenya_census_cleane 100%[===================>]   4.96K  --.-KB/s    in 0s      \n",
            "\n",
            "2025-04-29 12:51:28 (48.7 MB/s) - ‘kenya_census_cleaned.csv’ saved [5078/5078]\n",
            "\n",
            "--2025-04-29 12:51:28--  https://raw.githubusercontent.com/mrc329/sql-portfolio/main/banking_data_by_county_kenya.csv\n",
            "Resolving raw.githubusercontent.com (raw.githubusercontent.com)... 185.199.108.133, 185.199.109.133, 185.199.110.133, ...\n",
            "Connecting to raw.githubusercontent.com (raw.githubusercontent.com)|185.199.108.133|:443... connected.\n",
            "HTTP request sent, awaiting response... 200 OK\n",
            "Length: 2274 (2.2K) [text/plain]\n",
            "Saving to: ‘banking_data_by_county_kenya.csv’\n",
            "\n",
            "banking_data_by_cou 100%[===================>]   2.22K  --.-KB/s    in 0s      \n",
            "\n",
            "2025-04-29 12:51:28 (30.7 MB/s) - ‘banking_data_by_county_kenya.csv’ saved [2274/2274]\n",
            "\n",
            "Sample data from census_data table:\n",
            "         county    total_pop   male_pop female_pop  intersex_pop  \\\n",
            "0      Mombasa    1,208,333    610,257    598,046             30   \n",
            "1        Kwale      866,820    425,121    441,681             18   \n",
            "2       Kilifi    1,453,787    704,089    749,673             25   \n",
            "3   Tana River      315,943    158,550    157,391              2   \n",
            "4         Lamu      143,920     76,103     67,813              4   \n",
            "\n",
            "  total_households conventional_households group_quarters_households  \\\n",
            "0         378,422                 376,295                     2,127    \n",
            "1         173,176                 172,802                       374    \n",
            "2         298,472                 297,990                       482    \n",
            "3          68,242                  66,984                     1,258    \n",
            "4          37,963                  34,231                     3,732    \n",
            "\n",
            "  land_area_sq_km density_persons_per_sq_km unnamed: 10 unnamed: 11  \\\n",
            "0            220                     5,495         None        None   \n",
            "1          8,254                       105         None        None   \n",
            "2         12,553                       116         None        None   \n",
            "3         37,904                         8         None        None   \n",
            "4          6,283                        23         None        None   \n",
            "\n",
            "  unnamed: 12  \n",
            "0        None  \n",
            "1        None  \n",
            "2        None  \n",
            "3        None  \n",
            "4        None  \n",
            "\n",
            "Sample data from banking_data table:\n",
            "       county  bank_overall  mobile_bank_account  \\\n",
            "0     Baringo          41.0                 12.6   \n",
            "1       Bomet          31.9                 12.1   \n",
            "2     Bungoma          44.5                 27.6   \n",
            "3       Busia          46.3                 32.2   \n",
            "4  E-Marakwet          27.5                 11.3   \n",
            "\n",
            "   banks_(excl_ mobile_bank_accounts)  mobile_money  sacco  micro_finance  \\\n",
            "0                                13.9          72.4   11.4            0.3   \n",
            "1                                22.0          75.2   16.4            0.8   \n",
            "2                                24.0          71.4    4.9            0.9   \n",
            "3                                20.5          75.7    3.8            0.9   \n",
            "4                                11.6          71.4    5.4            1.0   \n",
            "\n",
            "   insurance  pension  \n",
            "0       17.4      4.9  \n",
            "1       22.6      8.8  \n",
            "2       13.2      6.9  \n",
            "3       18.1      9.7  \n",
            "4       17.7      3.8  \n"
          ]
        }
      ],
      "source": [
        "# Import necessary libraries\n",
        "import sqlite3\n",
        "import pandas as pd\n",
        "import numpy as np\n",
        "import matplotlib.pyplot as plt\n",
        "import seaborn as sns\n",
        "\n",
        "# Download data files if needed\n",
        "!wget -O kenya_census_cleaned.csv https://raw.githubusercontent.com/mrc329/sql-portfolio/main/kenya_census_cleaned.csv\n",
        "!wget -O banking_data_by_county_kenya.csv https://raw.githubusercontent.com/mrc329/sql-portfolio/main/banking_data_by_county_kenya.csv\n",
        "\n",
        "# Load CSVs into pandas DataFrames\n",
        "df_census = pd.read_csv(\"kenya_census_cleaned.csv\")\n",
        "df_banking = pd.read_csv(\"banking_data_by_county_kenya.csv\")\n",
        "\n",
        "# Clean and normalize column names\n",
        "df_census.columns = df_census.columns.str.strip().str.lower()\n",
        "df_banking.columns = df_banking.columns.str.strip().str.lower()\n",
        "\n",
        "# Create database connection\n",
        "conn = sqlite3.connect('my_data.db')\n",
        "\n",
        "# Create tables in database\n",
        "df_census.to_sql('census_data', conn, if_exists='replace', index=False)\n",
        "df_banking.to_sql('banking_data', conn, if_exists='replace', index=False)\n",
        "\n",
        "# Function to run SQL queries\n",
        "def run_query(query):\n",
        "    return pd.read_sql_query(query, conn)\n",
        "\n",
        "# Test the connection with a sample query\n",
        "print(\"Sample data from census_data table:\")\n",
        "print(run_query(\"SELECT * FROM census_data LIMIT 5;\"))\n",
        "\n",
        "print(\"\\nSample data from banking_data table:\")\n",
        "print(run_query(\"SELECT * FROM banking_data LIMIT 5;\"))\n",
        "\n",
        "# Now you can run your SQL queries using the run_query function\n",
        "# For example:\n",
        "# result = run_query(\"SELECT * FROM banking_data WHERE bank_overall > 40;\")\n",
        "\n",
        "# Remember to close the connection when done\n",
        "# conn.close()"
      ]
    },
    {
      "cell_type": "code",
      "source": [
        "%load_ext sql\n",
        "%sql sqlite:///my_data.db"
      ],
      "metadata": {
        "id": "vfDVYTgQwL1S"
      },
      "execution_count": null,
      "outputs": []
    },
    {
      "cell_type": "code",
      "source": [
        "%%sql\n",
        "-- Census names with no banking match\n",
        "SELECT DISTINCT c.county\n",
        "FROM census AS c\n",
        "LEFT JOIN banking_data AS b\n",
        "  ON UPPER(TRIM(c.county)) = UPPER(TRIM(b.county))\n",
        "WHERE b.county IS NULL;"
      ],
      "metadata": {
        "colab": {
          "base_uri": "https://localhost:8080/"
        },
        "id": "ym2njKy4waHg",
        "outputId": "3a0d12f3-80c6-426e-834d-8ed342748b67"
      },
      "execution_count": null,
      "outputs": [
        {
          "output_type": "stream",
          "name": "stdout",
          "text": [
            " * sqlite:///my_data.db\n",
            "(sqlite3.OperationalError) no such table: census\n",
            "[SQL: -- Census names with no banking match\n",
            "SELECT DISTINCT c.county\n",
            "FROM census AS c\n",
            "LEFT JOIN banking_data AS b\n",
            "  ON UPPER(TRIM(c.county)) = UPPER(TRIM(b.county))\n",
            "WHERE b.county IS NULL;]\n",
            "(Background on this error at: https://sqlalche.me/e/20/e3q8)\n"
          ]
        }
      ]
    },
    {
      "cell_type": "code",
      "source": [
        "final_results=(run_query(\"\"\"\n",
        "WITH joined_data AS (\n",
        "  SELECT *\n",
        "  FROM census_data AS c\n",
        "  JOIN banking_data AS b\n",
        "    ON lower(trim(replace(replace(replace(c.county, '/', ' '), '-', ' '), '''', '')))\n",
        "    = lower(trim(replace(replace(replace(b.county, '/', ' '), '-', ' '), '''', '')))\n",
        "),\n",
        "\n",
        "final_metrics AS (\n",
        "  SELECT\n",
        "    county,\n",
        "    -- Formal_Financial_Inclusion\n",
        "    ROUND(CAST(REPLACE(total_pop, ',', '') AS FLOAT) / bank_overall, 1) AS people_banked,\n",
        "    printf('%.6f', bank_overall * 1.0 / CAST(REPLACE(total_pop, ',', '') AS FLOAT)) AS banks_per_person,\n",
        "    printf('%.6f', bank_overall * 1.0 / CAST(REPLACE(density_persons_per_sq_km, ',', '') AS FLOAT)) AS bank_per_population_density,\n",
        "CASE\n",
        "  WHEN bank_overall IS NULL OR bank_overall = 0 THEN NULL\n",
        "  ELSE ROUND(\n",
        "    (CAST(REPLACE(bank_overall, ',', '') AS FLOAT) / male_pop) / (CAST(REPLACE(bank_overall, ',', '') AS FLOAT) / female_pop),\n",
        "    2\n",
        "  )\n",
        "END AS gender_banking_gap,\n",
        "\n",
        "\n",
        "    -- Banking_per_Household_Type\n",
        "    printf('%.6f', bank_overall * 1.0 / CAST(REPLACE(total_households, ',', '') AS FLOAT)) AS bank_to_household_ratio,\n",
        "    ROUND(CAST(REPLACE(total_households, ',', '') AS FLOAT) / bank_overall, 2) AS households_per_bank_account,\n",
        "    printf('%.6f', bank_overall * 1.0 / CAST(REPLACE(conventional_households, ',', '') AS FLOAT)) AS bank_to_conventional_household_ratio,\n",
        "    ROUND(CAST(REPLACE(conventional_households, ',', '') AS FLOAT) / bank_overall, 2) AS conventional_households_per_bank_account,\n",
        "    printf('%.6f', bank_overall * 1.0 / CAST(REPLACE(group_quarters_households, ',', '') AS FLOAT)) AS bank_to_group_household_ratio,\n",
        "    ROUND(CAST(REPLACE(group_quarters_households, ',', '') AS FLOAT) / bank_overall, 2) AS group_households_per_bank_account,\n",
        "\n",
        "    -- Community_Financial_Access\n",
        "    ROUND(CAST(REPLACE(sacco, ',', '') AS FLOAT) / total_pop, 2) AS sacco_per_person,\n",
        "    ROUND(CAST(REPLACE(total_pop, ',', '') AS FLOAT) / sacco, 2) AS people_per_sacco,\n",
        "    printf('%.6f', sacco * 1.0 / CAST(REPLACE(density_persons_per_sq_km, ',', '') AS FLOAT)) AS sacco_per_population_density,\n",
        "    CASE\n",
        "  WHEN sacco IS NULL OR sacco = 0 THEN NULL\n",
        "  ELSE ROUND(\n",
        "    (CAST(REPLACE(sacco, ',', '') AS FLOAT) / male_pop) / (CAST(REPLACE(sacco, ',', '') AS FLOAT) / female_pop),\n",
        "    2\n",
        "  )\n",
        "END AS sacco_gender_gap,\n",
        "\n",
        "    -- Digital/Mobile_Money_Access\n",
        "    printf('%.6f', mobile_bank_account * 1.0 / CAST(REPLACE(total_pop, ',', '') AS FLOAT)) AS mobile_accts_per_person,\n",
        "    ROUND(CAST(REPLACE(total_pop, ',', '') AS FLOAT) / mobile_bank_account, 2) AS people_per_mobile_acct,\n",
        "    printf('%.6f', mobile_money * 1.0 / CAST(REPLACE(density_persons_per_sq_km, ',', '') AS FLOAT)) AS mobile_money_per_population_density,\n",
        "    ROUND(CAST(REPLACE(mobile_money, ',', '') AS FLOAT) / total_pop, 2) AS mobile_money_per_person,\n",
        "    ROUND(CAST(REPLACE(total_pop, ',', '') AS FLOAT) / mobile_money, 2) AS people_per_mobile_money,\n",
        "       CASE\n",
        "  WHEN mobile_bank_account IS NULL OR mobile_bank_account = 0 THEN NULL\n",
        "  ELSE ROUND(\n",
        "    (CAST(REPLACE(mobile_bank_account, ',', '') AS FLOAT) / male_pop) / (CAST(REPLACE(mobile_bank_account, ',', '') AS FLOAT) / female_pop),\n",
        "    2\n",
        "  )\n",
        "END AS mobile_bank_account_gender_gap,\n",
        "    printf('%.6f', mobile_bank_account * 1.0 / CAST(REPLACE(density_persons_per_sq_km, ',', '') AS FLOAT)) AS mobile_bank_account_per_population_density,\n",
        "         CASE\n",
        "  WHEN mobile_money IS NULL OR mobile_money = 0 THEN NULL\n",
        "  ELSE ROUND(\n",
        "    (CAST(REPLACE(mobile_money, ',', '') AS FLOAT) / male_pop) / (CAST(REPLACE(mobile_money, ',', '') AS FLOAT) / female_pop),\n",
        "    2\n",
        "  )\n",
        "END AS mobile_money_gender_gap,\n",
        "\n",
        "\n",
        "    -- Micro_Finance\n",
        "    ROUND(CAST(REPLACE(micro_finance, ',', '') AS FLOAT) / total_pop, 2) AS micro_finance_per_person,\n",
        "    ROUND(CAST(REPLACE(total_pop, ',', '') AS FLOAT) / micro_finance, 2) AS people_per_micro_finance,\n",
        "  CASE\n",
        "  WHEN micro_finance IS NULL OR micro_finance = 0  THEN 0\n",
        "ELSE ROUND(\n",
        "    (CAST(REPLACE(micro_finance, ',', '') AS FLOAT) / male_pop) / (CAST(REPLACE(micro_finance, ',', '') AS FLOAT) / female_pop),\n",
        "    2\n",
        "  )  END AS micro_finance_gender_gap,\n",
        "\n",
        "\n",
        "    -- Financial_Resilience\n",
        "    ROUND(CAST(REPLACE(total_pop, ',', '') AS FLOAT) / insurance, 2) AS people_per_insurance,\n",
        "    ROUND(CAST(REPLACE(insurance, ',', '') AS FLOAT) / total_pop, 2) AS insurance_per_person,\n",
        "    ROUND(CAST(REPLACE(total_pop, ',', '') AS FLOAT) / pension, 2) AS people_per_pension,\n",
        "    ROUND(CAST(REPLACE(pension, ',', '') AS FLOAT) / total_pop, 2) AS pension_per_person,\n",
        "    CASE\n",
        "      WHEN insurance IS NULL OR insurance = 0 THEN NULL\n",
        "      ELSE printf('%.6f', (CAST(REPLACE(insurance, ',', '') AS FLOAT) / male_pop) / (CAST(REPLACE(insurance, ',', '') AS FLOAT) / female_pop))\n",
        "    END AS insurance_gender_gap,\n",
        "    CASE\n",
        "      WHEN pension IS NULL OR pension = 0 THEN NULL\n",
        "      ELSE printf('%.6f', (CAST(REPLACE(pension, ',', '') AS FLOAT) / male_pop) / (CAST(REPLACE(pension, ',', '') AS FLOAT) / female_pop))\n",
        "    END AS pension_gender_gap,\n",
        "\n",
        "    -- Household_Metrics\n",
        "    ROUND(CAST(REPLACE(sacco, ',', '') AS FLOAT) / total_households, 2) AS sacco_per_household,\n",
        "    ROUND(CAST(REPLACE(total_households, ',', '') AS FLOAT) / sacco, 2) AS household_per_sacco,\n",
        "    ROUND(CAST(REPLACE(micro_finance, ',', '') AS FLOAT) / total_households, 2) AS micro_finance_per_household,\n",
        "   CASE\n",
        "  WHEN micro_finance IS NULL OR micro_finance = 0 OR total_households IS NULL THEN 0\n",
        "  ELSE ROUND(CAST(REPLACE(total_households, ',', '') AS FLOAT) / micro_finance, 2)\n",
        "END AS household_per_micro_finance,\n",
        "    ROUND(CAST(REPLACE(insurance, ',', '') AS FLOAT) / total_households, 2) AS insurance_per_household,\n",
        "    ROUND(CAST(REPLACE(total_households, ',', '') AS FLOAT) / insurance, 2) AS household_per_insurance,\n",
        "    ROUND(CAST(REPLACE(pension, ',', '') AS FLOAT) / total_households, 2) AS pension_per_household,\n",
        "    ROUND(CAST(REPLACE(total_households, ',', '') AS FLOAT) / pension, 2) AS household_per_pension\n",
        "  FROM joined_data\n",
        "),\n",
        "\n",
        "ntile_metrics AS (\n",
        "  SELECT\n",
        "    *,\n",
        "    NTILE(4) OVER (ORDER BY people_per_insurance) AS people_per_insurance_quartile,\n",
        "    NTILE(4) OVER (ORDER BY insurance_per_person) AS insurance_per_person_quartile,\n",
        "    NTILE(4) OVER (ORDER BY people_per_pension) AS people_per_pension_quartile,\n",
        "    NTILE(4) OVER (ORDER BY pension_per_person) AS pension_per_person_quartile,\n",
        "    NTILE(4) OVER (ORDER BY insurance_gender_gap) AS insurance_gender_gap_quartile,\n",
        "    NTILE(4) OVER (ORDER BY pension_gender_gap) AS pension_gender_gap_quartile,\n",
        "    NTILE(4) OVER (ORDER BY sacco_per_household) AS sacco_per_household_quartile,\n",
        "    NTILE(4) OVER (ORDER BY household_per_sacco) AS household_per_sacco_quartile,\n",
        "    NTILE(4) OVER (ORDER BY micro_finance_per_household) AS micro_finance_per_household_quartile,\n",
        "    NTILE(4) OVER (ORDER BY household_per_micro_finance) AS household_per_micro_finance_quartile,\n",
        "    NTILE(4) OVER (ORDER BY micro_finance_per_person) AS micro_finance_per_person_quartile,\n",
        "    NTILE(4) OVER (ORDER BY insurance_per_household) AS insurance_per_household_quartile,\n",
        "    NTILE(4) OVER (ORDER BY household_per_insurance) AS household_per_insurance_quartile,\n",
        "    NTILE(4) OVER (ORDER BY pension_per_household) AS pension_per_household_quartile,\n",
        "    NTILE(4) OVER (ORDER BY household_per_pension) AS household_per_pension_quartile\n",
        "  FROM final_metrics\n",
        "),\n",
        "calculated_metrics AS (\n",
        "    SELECT *,\n",
        "        (people_banked + sacco_per_person + mobile_accts_per_person + micro_finance_per_person) / 4 AS Financial_Access_Index_FAI,\n",
        "        (gender_banking_gap + sacco_gender_gap + mobile_bank_account_gender_gap + mobile_money_gender_gap + micro_finance_gender_gap + insurance_gender_gap + pension_gender_gap) / 7 AS Gender_Equality_Score,\n",
        "        (households_per_bank_account + household_per_sacco + household_per_micro_finance + household_per_insurance + household_per_pension) / 5 AS Household_Financial_Access_Index,\n",
        "        (bank_per_population_density + sacco_per_population_density + mobile_bank_account_per_population_density + mobile_money_per_population_density) / 4 AS Density_Adjusted_Access_Score,\n",
        "        (insurance_per_person + pension_per_person) / 2 AS Resilance_Score,\n",
        "        (banks_per_person + sacco_per_person) / (mobile_accts_per_person + mobile_money_per_person) AS Traditional_vs_Digital_Finance_Balance\n",
        "    FROM ntile_metrics\n",
        ")\n",
        "SELECT *,\n",
        "    (Financial_Access_Index_FAI - MIN(Financial_Access_Index_FAI) OVER ()) /\n",
        "        NULLIF((MAX(Financial_Access_Index_FAI) OVER () - MIN(Financial_Access_Index_FAI) OVER ()), 0) AS Financial_Access_Index_FAI_norm,\n",
        "    (Gender_Equality_Score - MIN(Gender_Equality_Score) OVER ()) /\n",
        "        NULLIF((MAX(Gender_Equality_Score) OVER () - MIN(Gender_Equality_Score) OVER ()), 0) AS Gender_Equality_Score_norm,\n",
        "    (Household_Financial_Access_Index - MIN(Household_Financial_Access_Index) OVER ()) /\n",
        "        NULLIF((MAX(Household_Financial_Access_Index) OVER () - MIN(Household_Financial_Access_Index) OVER ()), 0) AS Household_Financial_Access_Index_norm,\n",
        "    (Density_Adjusted_Access_Score - MIN(Density_Adjusted_Access_Score) OVER ()) /\n",
        "        NULLIF((MAX(Density_Adjusted_Access_Score) OVER () - MIN(Density_Adjusted_Access_Score) OVER ()), 0) AS Density_Adjusted_Access_Score_norm,\n",
        "    (Resilance_Score - MIN(Resilance_Score) OVER ()) /\n",
        "        NULLIF((MAX(Resilance_Score) OVER () - MIN(Resilance_Score) OVER ()), 0) AS Resilance_Score_norm,\n",
        "    (Traditional_vs_Digital_Finance_Balance - MIN(Traditional_vs_Digital_Finance_Balance) OVER ()) /\n",
        "        NULLIF((MAX(Traditional_vs_Digital_Finance_Balance) OVER () - MIN(Traditional_vs_Digital_Finance_Balance) OVER ()), 0) AS Traditional_vs_Digital_Finance_Balance_norm\n",
        "FROM calculated_metrics;\n",
        "\"\"\"))"
      ],
      "metadata": {
        "id": "XiM73VU-y46e"
      },
      "execution_count": null,
      "outputs": []
    },
    {
      "cell_type": "code",
      "source": [
        "from google.colab import files\n",
        "df.to_csv('final_metric', index=False)\n",
        "files.download('financial_metrics_analysis.csv')"
      ],
      "metadata": {
        "id": "mtxAq7LozXkb",
        "colab": {
          "base_uri": "https://localhost:8080/",
          "height": 17
        },
        "outputId": "4e3abc02-0766-451e-a58f-b385265039eb"
      },
      "execution_count": null,
      "outputs": [
        {
          "output_type": "display_data",
          "data": {
            "text/plain": [
              "<IPython.core.display.Javascript object>"
            ],
            "application/javascript": [
              "\n",
              "    async function download(id, filename, size) {\n",
              "      if (!google.colab.kernel.accessAllowed) {\n",
              "        return;\n",
              "      }\n",
              "      const div = document.createElement('div');\n",
              "      const label = document.createElement('label');\n",
              "      label.textContent = `Downloading \"${filename}\": `;\n",
              "      div.appendChild(label);\n",
              "      const progress = document.createElement('progress');\n",
              "      progress.max = size;\n",
              "      div.appendChild(progress);\n",
              "      document.body.appendChild(div);\n",
              "\n",
              "      const buffers = [];\n",
              "      let downloaded = 0;\n",
              "\n",
              "      const channel = await google.colab.kernel.comms.open(id);\n",
              "      // Send a message to notify the kernel that we're ready.\n",
              "      channel.send({})\n",
              "\n",
              "      for await (const message of channel.messages) {\n",
              "        // Send a message to notify the kernel that we're ready.\n",
              "        channel.send({})\n",
              "        if (message.buffers) {\n",
              "          for (const buffer of message.buffers) {\n",
              "            buffers.push(buffer);\n",
              "            downloaded += buffer.byteLength;\n",
              "            progress.value = downloaded;\n",
              "          }\n",
              "        }\n",
              "      }\n",
              "      const blob = new Blob(buffers, {type: 'application/binary'});\n",
              "      const a = document.createElement('a');\n",
              "      a.href = window.URL.createObjectURL(blob);\n",
              "      a.download = filename;\n",
              "      div.appendChild(a);\n",
              "      a.click();\n",
              "      div.remove();\n",
              "    }\n",
              "  "
            ]
          },
          "metadata": {}
        },
        {
          "output_type": "display_data",
          "data": {
            "text/plain": [
              "<IPython.core.display.Javascript object>"
            ],
            "application/javascript": [
              "download(\"download_c8b39574-4765-40b4-8d90-348d3342d163\", \"financial_metrics_analysis.csv\", 25072)"
            ]
          },
          "metadata": {}
        }
      ]
    },
    {
      "cell_type": "code",
      "source": [
        "from google.colab import drive\n",
        "drive.mount('/content/drive')"
      ],
      "metadata": {
        "id": "aPPJ6eaTzl9N"
      },
      "execution_count": null,
      "outputs": []
    },
    {
      "cell_type": "code",
      "source": [
        "%config SqlMagic.style = 'DEFAULT'\n",
        "%reload_ext sql\n",
        "%sql sqlite:///my_data.db\n"
      ],
      "metadata": {
        "id": "WnY9EMzAzkTG"
      },
      "execution_count": null,
      "outputs": []
    }
  ]
}